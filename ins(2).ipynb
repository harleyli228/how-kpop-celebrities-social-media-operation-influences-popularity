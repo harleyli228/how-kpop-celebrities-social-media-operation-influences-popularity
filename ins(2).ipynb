{
 "cells": [
  {
   "cell_type": "code",
   "execution_count": 5,
   "metadata": {
    "pycharm": {
     "name": "#%%\n"
    }
   },
   "outputs": [],
   "source": [
    "import requests\n",
    "import json\n",
    "import time\n",
    "from openpyxl import Workbook\n",
    "\n",
    "class BusinessDiscovery:\n",
    "    def __init__(self, prefix, ig_user_id, ig_creator_username, access_token, creator_field='followers_count,media_count',\n",
    "                 media_field='caption,comments_count,like_count', proxies=None, time_sleep=1):\n",
    "        self.url = '%s/%s' % (prefix, ig_user_id)\n",
    "        self.access_token = access_token\n",
    "        self.ig_creator_username = ig_creator_username\n",
    "        self.creator_field = creator_field\n",
    "        self.media_field = media_field\n",
    "        self.proxies=proxies\n",
    "        self.time_sleep = time_sleep\n",
    "\n",
    "        self.xlsx_head = media_field.split(',')\n",
    "        self.xlsx_head.append('id')\n",
    "\n",
    "    def build_params(self, after=None):\n",
    "        after_str = '.after(%s)' % after if after else ''\n",
    "        params = {'fields': 'business_discovery.username(%s){%s,media%s{%s}}' % (self.ig_creator_username,\n",
    "                                                                               self.creator_field,\n",
    "                                                                               after_str,\n",
    "                                                                               self.media_field),\n",
    "                'access_token': self.access_token}\n",
    "        return params\n",
    "\n",
    "    def request_by_params(self, params):\n",
    "        print(self.url, params)\n",
    "        ret = requests.get(self.url, params=params, proxies=self.proxies)\n",
    "        return json.loads(ret.content)\n",
    "\n",
    "    @staticmethod\n",
    "    def get_paging_cursor(content, direction='after'):\n",
    "        paging_cursors = content['business_discovery']['media']['paging']['cursors']\n",
    "        if direction in paging_cursors:\n",
    "            return paging_cursors[direction]\n",
    "        else:\n",
    "            return None\n",
    "\n",
    "    def write_media_data(self, content, xlsx_sheet):\n",
    "        media_data = content['business_discovery']['media']['data']\n",
    "        for media in media_data:\n",
    "            xlsx_sheet.append([media.get(key, '') for key in self.xlsx_head])\n",
    "\n",
    "    def request_all_posts_to_xlsx(self, xlsx_path, need_xlsx_head=True):\n",
    "        wb = Workbook()\n",
    "        xlsx_sheet = wb.active\n",
    "        if need_xlsx_head:\n",
    "            xlsx_sheet.append(self.xlsx_head)\n",
    "\n",
    "        params = self.build_params()\n",
    "        content = self.request_by_params(params)\n",
    "        self.write_media_data(content, xlsx_sheet)\n",
    "\n",
    "        followers_count = content['business_discovery']['followers_count']\n",
    "        media_count = content['business_discovery']['media_count']\n",
    "\n",
    "        if 'paging' in content['business_discovery']['media']:\n",
    "            next_paging_cursor = self.get_paging_cursor(content)\n",
    "            while next_paging_cursor:\n",
    "                params = self.build_params(after=next_paging_cursor)\n",
    "                content = self.request_by_params(params)\n",
    "                self.write_media_data(content, xlsx_sheet)\n",
    "\n",
    "                next_paging_cursor = self.get_paging_cursor(content)\n",
    "                time.sleep(self.time_sleep)\n",
    "\n",
    "        wb.save(xlsx_path)\n",
    "\n",
    "        print('ig_creator_username:', self.ig_creator_username)\n",
    "        print('followers_count:', followers_count)\n",
    "        print('media_count:', media_count)\n",
    "        print('All posts are saving to %s!' % xlsx_path)"
   ]
  },
  {
   "cell_type": "code",
   "execution_count": 6,
   "metadata": {
    "pycharm": {
     "name": "#%%\n"
    }
   },
   "outputs": [
    {
     "name": "stdout",
     "output_type": "stream",
     "text": [
      "https://graph.facebook.com/v12.0/17841405419489636 {'fields': 'business_discovery.username(aespa_official){followers_count,media_count,media{caption,comments_count,like_count}}', 'access_token': 'EAAJGCVkgEywBAOY25RaCyHyTavpbp8Rob3Sj2qpmDreBnIoerz6CECHOq31zOP0JdLAw0ATdAGIEkhImHkZA6nNsHQblNB75GRwq2vS2669ZBwLZAjo46oNvMxMvTzcNKKM8XbUgrecMpZCU13XfJZBYrj4Jmj4jYcoHZAilZAB7HzZCZBXnHrQ3bc49MhWjIiIyWNlCRqXRbP3BZBbpBMG5eNfbbrZAU2SwFajYUZC5uQZC3TT18lAbE2pIx'}\n",
      "https://graph.facebook.com/v12.0/17841405419489636 {'fields': 'business_discovery.username(aespa_official){followers_count,media_count,media.after(QVFIUm5NSWpiOU9MZAnlTODBOTnlTalN5MHRmb1NBeVJqaG9UQmxHNjZAFVmdPSU9rM20tUTYwajl2YktoTmpSaVdEYktIVzhRRlY0cjZAtYTVvM2xsVGN3YnRn){caption,comments_count,like_count}}', 'access_token': 'EAAJGCVkgEywBAOY25RaCyHyTavpbp8Rob3Sj2qpmDreBnIoerz6CECHOq31zOP0JdLAw0ATdAGIEkhImHkZA6nNsHQblNB75GRwq2vS2669ZBwLZAjo46oNvMxMvTzcNKKM8XbUgrecMpZCU13XfJZBYrj4Jmj4jYcoHZAilZAB7HzZCZBXnHrQ3bc49MhWjIiIyWNlCRqXRbP3BZBbpBMG5eNfbbrZAU2SwFajYUZC5uQZC3TT18lAbE2pIx'}\n",
      "https://graph.facebook.com/v12.0/17841405419489636 {'fields': 'business_discovery.username(aespa_official){followers_count,media_count,media.after(QVFIUjVwOWRKRnA1eG4zb2U5YUdfMmJEMmFUampGcDVLcTNyeFpFWFdYa0FVWW9DYVMwSjhDcEpXckpfVmI0WXIzQ1Q5SjVzd3hIaHNvTGIzcDhDdkpFZAV9B){caption,comments_count,like_count}}', 'access_token': 'EAAJGCVkgEywBAOY25RaCyHyTavpbp8Rob3Sj2qpmDreBnIoerz6CECHOq31zOP0JdLAw0ATdAGIEkhImHkZA6nNsHQblNB75GRwq2vS2669ZBwLZAjo46oNvMxMvTzcNKKM8XbUgrecMpZCU13XfJZBYrj4Jmj4jYcoHZAilZAB7HzZCZBXnHrQ3bc49MhWjIiIyWNlCRqXRbP3BZBbpBMG5eNfbbrZAU2SwFajYUZC5uQZC3TT18lAbE2pIx'}\n",
      "https://graph.facebook.com/v12.0/17841405419489636 {'fields': 'business_discovery.username(aespa_official){followers_count,media_count,media.after(QVFIUmVfaFVkT2lGSHhKeHJ0OENBd0F6T05nWFpFOWJSM0R0ZAFowWDU2blNzb1FFcG1ZAN2g3SkFWaUl6TWxKcE5WYzNlLVU0bERnOV90QVNYUTBHLUgyOTJn){caption,comments_count,like_count}}', 'access_token': 'EAAJGCVkgEywBAOY25RaCyHyTavpbp8Rob3Sj2qpmDreBnIoerz6CECHOq31zOP0JdLAw0ATdAGIEkhImHkZA6nNsHQblNB75GRwq2vS2669ZBwLZAjo46oNvMxMvTzcNKKM8XbUgrecMpZCU13XfJZBYrj4Jmj4jYcoHZAilZAB7HzZCZBXnHrQ3bc49MhWjIiIyWNlCRqXRbP3BZBbpBMG5eNfbbrZAU2SwFajYUZC5uQZC3TT18lAbE2pIx'}\n",
      "https://graph.facebook.com/v12.0/17841405419489636 {'fields': 'business_discovery.username(aespa_official){followers_count,media_count,media.after(QVFIUmFBTDNOUC1NU2pQRTc5Y1lEbE81c1RILUdWU19YQmw0SGVVTENnN1dERk1PZAW9aVkVJcUpmNkgyX01NcWpGdmltanhJWG54UkJNRGpqX2V4dDMtdVN3){caption,comments_count,like_count}}', 'access_token': 'EAAJGCVkgEywBAOY25RaCyHyTavpbp8Rob3Sj2qpmDreBnIoerz6CECHOq31zOP0JdLAw0ATdAGIEkhImHkZA6nNsHQblNB75GRwq2vS2669ZBwLZAjo46oNvMxMvTzcNKKM8XbUgrecMpZCU13XfJZBYrj4Jmj4jYcoHZAilZAB7HzZCZBXnHrQ3bc49MhWjIiIyWNlCRqXRbP3BZBbpBMG5eNfbbrZAU2SwFajYUZC5uQZC3TT18lAbE2pIx'}\n",
      "https://graph.facebook.com/v12.0/17841405419489636 {'fields': 'business_discovery.username(aespa_official){followers_count,media_count,media.after(QVFIUmJUa3R1cXR2aEJXdFFucUVVTTVfSS1HR2pWNFNzaUd6UVoxeXg0bmNhLV9nTERoX2lkeUV4Y0FQSzBTdDBTSFFOT1ZAONVpUTWF5QWVNWUc3X1dCeWZAR){caption,comments_count,like_count}}', 'access_token': 'EAAJGCVkgEywBAOY25RaCyHyTavpbp8Rob3Sj2qpmDreBnIoerz6CECHOq31zOP0JdLAw0ATdAGIEkhImHkZA6nNsHQblNB75GRwq2vS2669ZBwLZAjo46oNvMxMvTzcNKKM8XbUgrecMpZCU13XfJZBYrj4Jmj4jYcoHZAilZAB7HzZCZBXnHrQ3bc49MhWjIiIyWNlCRqXRbP3BZBbpBMG5eNfbbrZAU2SwFajYUZC5uQZC3TT18lAbE2pIx'}\n",
      "https://graph.facebook.com/v12.0/17841405419489636 {'fields': 'business_discovery.username(aespa_official){followers_count,media_count,media.after(QVFIUlB5Rm5yVHVQdThLREpFRWtxSTlLU1hFa19NandtTzduTVM3S3FURFlyQmJORXJUUk5YT2FSSGF2Wmw2RVZAwNGRrbng2NkR2NF82amNNYmJjRUItWDN3){caption,comments_count,like_count}}', 'access_token': 'EAAJGCVkgEywBAOY25RaCyHyTavpbp8Rob3Sj2qpmDreBnIoerz6CECHOq31zOP0JdLAw0ATdAGIEkhImHkZA6nNsHQblNB75GRwq2vS2669ZBwLZAjo46oNvMxMvTzcNKKM8XbUgrecMpZCU13XfJZBYrj4Jmj4jYcoHZAilZAB7HzZCZBXnHrQ3bc49MhWjIiIyWNlCRqXRbP3BZBbpBMG5eNfbbrZAU2SwFajYUZC5uQZC3TT18lAbE2pIx'}\n",
      "https://graph.facebook.com/v12.0/17841405419489636 {'fields': 'business_discovery.username(aespa_official){followers_count,media_count,media.after(QVFIUk0tSUNrR0pfMWFuaGp2czJFSEV5c2ZAaYVZAZAaGhkRmc5RFVYYk1HRjM2dkYtMW5VYWRXUUw5bnoxeXVnOThqTXdGeHhCNUl2c2ZAhT3NRLXlwR1V4a0xn){caption,comments_count,like_count}}', 'access_token': 'EAAJGCVkgEywBAOY25RaCyHyTavpbp8Rob3Sj2qpmDreBnIoerz6CECHOq31zOP0JdLAw0ATdAGIEkhImHkZA6nNsHQblNB75GRwq2vS2669ZBwLZAjo46oNvMxMvTzcNKKM8XbUgrecMpZCU13XfJZBYrj4Jmj4jYcoHZAilZAB7HzZCZBXnHrQ3bc49MhWjIiIyWNlCRqXRbP3BZBbpBMG5eNfbbrZAU2SwFajYUZC5uQZC3TT18lAbE2pIx'}\n",
      "https://graph.facebook.com/v12.0/17841405419489636 {'fields': 'business_discovery.username(aespa_official){followers_count,media_count,media.after(QVFIUlB0RXhfNUlTR0hPTGxJSGF6RG5nXzFMQVdqMzU2SF8wa3c1Y2hnYkFtb3RZAcWFiY05WaXk0eFIyVnItV1F1NEtTRFN4ZAmZADNnQ0WDZAiZAWpvRk9MZAzdR){caption,comments_count,like_count}}', 'access_token': 'EAAJGCVkgEywBAOY25RaCyHyTavpbp8Rob3Sj2qpmDreBnIoerz6CECHOq31zOP0JdLAw0ATdAGIEkhImHkZA6nNsHQblNB75GRwq2vS2669ZBwLZAjo46oNvMxMvTzcNKKM8XbUgrecMpZCU13XfJZBYrj4Jmj4jYcoHZAilZAB7HzZCZBXnHrQ3bc49MhWjIiIyWNlCRqXRbP3BZBbpBMG5eNfbbrZAU2SwFajYUZC5uQZC3TT18lAbE2pIx'}\n",
      "https://graph.facebook.com/v12.0/17841405419489636 {'fields': 'business_discovery.username(aespa_official){followers_count,media_count,media.after(QVFIUmprM1JZATnZA4SldWZAnNwb2JWaUJZAdWg5OFNqaUN0VUt3ZAjZAnU3hiNVhkc0FuT3ZAYQWxpbnZAvUUxKMGlNYlBPb0RlMmlkX1ZAmT3I1UmVuZA0FWOVhSaUZAB){caption,comments_count,like_count}}', 'access_token': 'EAAJGCVkgEywBAOY25RaCyHyTavpbp8Rob3Sj2qpmDreBnIoerz6CECHOq31zOP0JdLAw0ATdAGIEkhImHkZA6nNsHQblNB75GRwq2vS2669ZBwLZAjo46oNvMxMvTzcNKKM8XbUgrecMpZCU13XfJZBYrj4Jmj4jYcoHZAilZAB7HzZCZBXnHrQ3bc49MhWjIiIyWNlCRqXRbP3BZBbpBMG5eNfbbrZAU2SwFajYUZC5uQZC3TT18lAbE2pIx'}\n",
      "https://graph.facebook.com/v12.0/17841405419489636 {'fields': 'business_discovery.username(aespa_official){followers_count,media_count,media.after(QVFIUkJMRGg0QUhyaEZA6QzFkeGtCTlZAhQ3RyQ3l5OGhjbExPRXdlNjIzSVYzaGJaNEEwNHRyRzNwc0o3QkFyMllTcHpVVFNxLVVGcW56UDl6RVpNUnhtM1dB){caption,comments_count,like_count}}', 'access_token': 'EAAJGCVkgEywBAOY25RaCyHyTavpbp8Rob3Sj2qpmDreBnIoerz6CECHOq31zOP0JdLAw0ATdAGIEkhImHkZA6nNsHQblNB75GRwq2vS2669ZBwLZAjo46oNvMxMvTzcNKKM8XbUgrecMpZCU13XfJZBYrj4Jmj4jYcoHZAilZAB7HzZCZBXnHrQ3bc49MhWjIiIyWNlCRqXRbP3BZBbpBMG5eNfbbrZAU2SwFajYUZC5uQZC3TT18lAbE2pIx'}\n",
      "https://graph.facebook.com/v12.0/17841405419489636 {'fields': 'business_discovery.username(aespa_official){followers_count,media_count,media.after(QVFIUnU4UjdWcWpCWGZAXal9KSk1qUnNkN2VncEVYb1BPQW1qTlJZAdkZAKQ0dhMmZAwMnlLSnhpTjM0empQdXRWOEwzTndxbWpQN1AyVzVzTkRkTnViOGFqaWJR){caption,comments_count,like_count}}', 'access_token': 'EAAJGCVkgEywBAOY25RaCyHyTavpbp8Rob3Sj2qpmDreBnIoerz6CECHOq31zOP0JdLAw0ATdAGIEkhImHkZA6nNsHQblNB75GRwq2vS2669ZBwLZAjo46oNvMxMvTzcNKKM8XbUgrecMpZCU13XfJZBYrj4Jmj4jYcoHZAilZAB7HzZCZBXnHrQ3bc49MhWjIiIyWNlCRqXRbP3BZBbpBMG5eNfbbrZAU2SwFajYUZC5uQZC3TT18lAbE2pIx'}\n",
      "https://graph.facebook.com/v12.0/17841405419489636 {'fields': 'business_discovery.username(aespa_official){followers_count,media_count,media.after(QVFIUjZAWOEdZAaHEtaXhqRlduNG05Tkw3SFk2OE0tcDQ4X3lQU3RMRDZAmVkp3cVNzdkhDdnlmSDlBMWtsbVZAuaDZArLVRKYzE5OWFYVmVOSEpIMWlDMllBbkRR){caption,comments_count,like_count}}', 'access_token': 'EAAJGCVkgEywBAOY25RaCyHyTavpbp8Rob3Sj2qpmDreBnIoerz6CECHOq31zOP0JdLAw0ATdAGIEkhImHkZA6nNsHQblNB75GRwq2vS2669ZBwLZAjo46oNvMxMvTzcNKKM8XbUgrecMpZCU13XfJZBYrj4Jmj4jYcoHZAilZAB7HzZCZBXnHrQ3bc49MhWjIiIyWNlCRqXRbP3BZBbpBMG5eNfbbrZAU2SwFajYUZC5uQZC3TT18lAbE2pIx'}\n",
      "https://graph.facebook.com/v12.0/17841405419489636 {'fields': 'business_discovery.username(aespa_official){followers_count,media_count,media.after(QVFIUlZAjSmxhMG9hbTV5Vzhhc3pzS3BNMXY2MUs3LXdxZAEJJMzFBMUlUbTZAnSmdlQTkzQVN0bFFIT1Mwc0MzQW1Ba2VFMmtQSV9PVUd2SDd4NFRlUWY3dkRn){caption,comments_count,like_count}}', 'access_token': 'EAAJGCVkgEywBAOY25RaCyHyTavpbp8Rob3Sj2qpmDreBnIoerz6CECHOq31zOP0JdLAw0ATdAGIEkhImHkZA6nNsHQblNB75GRwq2vS2669ZBwLZAjo46oNvMxMvTzcNKKM8XbUgrecMpZCU13XfJZBYrj4Jmj4jYcoHZAilZAB7HzZCZBXnHrQ3bc49MhWjIiIyWNlCRqXRbP3BZBbpBMG5eNfbbrZAU2SwFajYUZC5uQZC3TT18lAbE2pIx'}\n",
      "https://graph.facebook.com/v12.0/17841405419489636 {'fields': 'business_discovery.username(aespa_official){followers_count,media_count,media.after(QVFIUmlVT3oxYmxrT0xrZA2pzZAF9ONnl2MWJkaGhrMkdDeW5hVHgwOHY2SDJQWVAwMVRta0pxZAy0xekVBdFNzREJERDZABelJ4WG0xal83UkRibjBLZADNFNzBB){caption,comments_count,like_count}}', 'access_token': 'EAAJGCVkgEywBAOY25RaCyHyTavpbp8Rob3Sj2qpmDreBnIoerz6CECHOq31zOP0JdLAw0ATdAGIEkhImHkZA6nNsHQblNB75GRwq2vS2669ZBwLZAjo46oNvMxMvTzcNKKM8XbUgrecMpZCU13XfJZBYrj4Jmj4jYcoHZAilZAB7HzZCZBXnHrQ3bc49MhWjIiIyWNlCRqXRbP3BZBbpBMG5eNfbbrZAU2SwFajYUZC5uQZC3TT18lAbE2pIx'}\n"
     ]
    },
    {
     "name": "stdout",
     "output_type": "stream",
     "text": [
      "https://graph.facebook.com/v12.0/17841405419489636 {'fields': 'business_discovery.username(aespa_official){followers_count,media_count,media.after(QVFIUkxTVjhKVzl2ajVUUGJ6djc3NHlZAZAXNjNEw0ZAC04bU8xU212S3lYSF9FZAWsyZATVBdF9oTGU3OUR5NVJpYnZA0ZA2x2VV9rOHN1cWNvek5GcWZAraVBtUThn){caption,comments_count,like_count}}', 'access_token': 'EAAJGCVkgEywBAOY25RaCyHyTavpbp8Rob3Sj2qpmDreBnIoerz6CECHOq31zOP0JdLAw0ATdAGIEkhImHkZA6nNsHQblNB75GRwq2vS2669ZBwLZAjo46oNvMxMvTzcNKKM8XbUgrecMpZCU13XfJZBYrj4Jmj4jYcoHZAilZAB7HzZCZBXnHrQ3bc49MhWjIiIyWNlCRqXRbP3BZBbpBMG5eNfbbrZAU2SwFajYUZC5uQZC3TT18lAbE2pIx'}\n",
      "https://graph.facebook.com/v12.0/17841405419489636 {'fields': 'business_discovery.username(aespa_official){followers_count,media_count,media.after(QVFIUktRSmxKVWNHNXN2Ym5ESjFrTjRFd1JQS0lqMXk1NlIxTGtpalc3RzNhZA2h0OEFjeE5PVlgyd2J3UjFSMlI0bWJ2LUc3bWF1b2g2QWdIbjJIclBRdEtB){caption,comments_count,like_count}}', 'access_token': 'EAAJGCVkgEywBAOY25RaCyHyTavpbp8Rob3Sj2qpmDreBnIoerz6CECHOq31zOP0JdLAw0ATdAGIEkhImHkZA6nNsHQblNB75GRwq2vS2669ZBwLZAjo46oNvMxMvTzcNKKM8XbUgrecMpZCU13XfJZBYrj4Jmj4jYcoHZAilZAB7HzZCZBXnHrQ3bc49MhWjIiIyWNlCRqXRbP3BZBbpBMG5eNfbbrZAU2SwFajYUZC5uQZC3TT18lAbE2pIx'}\n",
      "https://graph.facebook.com/v12.0/17841405419489636 {'fields': 'business_discovery.username(aespa_official){followers_count,media_count,media.after(QVFIUmMtei1pRTBzUUhSWlBkcGhSV3lEbTZApT29JRHV0TkhjUzZABdjI0Vy1FZAmFOV0lWQm9xT3hJODIybFlJdWpTOHd0Yk9NVkxPTk9sSmo3VWFKMm9MWE9R){caption,comments_count,like_count}}', 'access_token': 'EAAJGCVkgEywBAOY25RaCyHyTavpbp8Rob3Sj2qpmDreBnIoerz6CECHOq31zOP0JdLAw0ATdAGIEkhImHkZA6nNsHQblNB75GRwq2vS2669ZBwLZAjo46oNvMxMvTzcNKKM8XbUgrecMpZCU13XfJZBYrj4Jmj4jYcoHZAilZAB7HzZCZBXnHrQ3bc49MhWjIiIyWNlCRqXRbP3BZBbpBMG5eNfbbrZAU2SwFajYUZC5uQZC3TT18lAbE2pIx'}\n",
      "https://graph.facebook.com/v12.0/17841405419489636 {'fields': 'business_discovery.username(aespa_official){followers_count,media_count,media.after(QVFIUmdIRWNtSHhqTlNmM2ktX1B2LVozWG1IWjhNZA0lCQkMwQnhFV3ZAoc2RrTVE0NERMOUlxTllKOVh6NXBPeVYwYlczVC1HM1V3ZAE5JWnNDWnlZAM0JXWHNR){caption,comments_count,like_count}}', 'access_token': 'EAAJGCVkgEywBAOY25RaCyHyTavpbp8Rob3Sj2qpmDreBnIoerz6CECHOq31zOP0JdLAw0ATdAGIEkhImHkZA6nNsHQblNB75GRwq2vS2669ZBwLZAjo46oNvMxMvTzcNKKM8XbUgrecMpZCU13XfJZBYrj4Jmj4jYcoHZAilZAB7HzZCZBXnHrQ3bc49MhWjIiIyWNlCRqXRbP3BZBbpBMG5eNfbbrZAU2SwFajYUZC5uQZC3TT18lAbE2pIx'}\n",
      "https://graph.facebook.com/v12.0/17841405419489636 {'fields': 'business_discovery.username(aespa_official){followers_count,media_count,media.after(QVFIUkZAEUURRRmFBV0hBZAF92MmVGaUxhazI1ZAmRsRkxxUWlJUkZA5RXl2VDZA1YnE3cklqSFZA4RVNwb29zNmlXaXA4WlRwUjdmN2MtYUpOYVI3Mll3M3FqQTR3){caption,comments_count,like_count}}', 'access_token': 'EAAJGCVkgEywBAOY25RaCyHyTavpbp8Rob3Sj2qpmDreBnIoerz6CECHOq31zOP0JdLAw0ATdAGIEkhImHkZA6nNsHQblNB75GRwq2vS2669ZBwLZAjo46oNvMxMvTzcNKKM8XbUgrecMpZCU13XfJZBYrj4Jmj4jYcoHZAilZAB7HzZCZBXnHrQ3bc49MhWjIiIyWNlCRqXRbP3BZBbpBMG5eNfbbrZAU2SwFajYUZC5uQZC3TT18lAbE2pIx'}\n",
      "https://graph.facebook.com/v12.0/17841405419489636 {'fields': 'business_discovery.username(aespa_official){followers_count,media_count,media.after(QVFIUnBZAbGk1bmtsSGFRdzNmU0IzQzZAvM2l0dkd6czIwcXgwdnhQYnAzb2NvRXpjWUo3NUktd1YwN0tOYVBJeXQxZADluTUtnWHlFZAXNtcElldzV2azlCQUNR){caption,comments_count,like_count}}', 'access_token': 'EAAJGCVkgEywBAOY25RaCyHyTavpbp8Rob3Sj2qpmDreBnIoerz6CECHOq31zOP0JdLAw0ATdAGIEkhImHkZA6nNsHQblNB75GRwq2vS2669ZBwLZAjo46oNvMxMvTzcNKKM8XbUgrecMpZCU13XfJZBYrj4Jmj4jYcoHZAilZAB7HzZCZBXnHrQ3bc49MhWjIiIyWNlCRqXRbP3BZBbpBMG5eNfbbrZAU2SwFajYUZC5uQZC3TT18lAbE2pIx'}\n",
      "https://graph.facebook.com/v12.0/17841405419489636 {'fields': 'business_discovery.username(aespa_official){followers_count,media_count,media.after(QVFIUmViaVNqQ1pHNHVIbjdIZAldnVFgxYm5QdVJqNUQ4MXk5WkktUjdsend5bjBKSmQ0WlZA4dTkwTTFxdzZAvTkZAkd3ZA4RVdmRXMyNHhhdUpUdEVSLVpLQzdR){caption,comments_count,like_count}}', 'access_token': 'EAAJGCVkgEywBAOY25RaCyHyTavpbp8Rob3Sj2qpmDreBnIoerz6CECHOq31zOP0JdLAw0ATdAGIEkhImHkZA6nNsHQblNB75GRwq2vS2669ZBwLZAjo46oNvMxMvTzcNKKM8XbUgrecMpZCU13XfJZBYrj4Jmj4jYcoHZAilZAB7HzZCZBXnHrQ3bc49MhWjIiIyWNlCRqXRbP3BZBbpBMG5eNfbbrZAU2SwFajYUZC5uQZC3TT18lAbE2pIx'}\n",
      "https://graph.facebook.com/v12.0/17841405419489636 {'fields': 'business_discovery.username(aespa_official){followers_count,media_count,media.after(QVFIUmZAyWllQV2dpblhiRkhQcHJIVGgzRnVlSjRFMjRGZAkhhSUJvWDluVm1ENmdsLTgzRDZAQZAE5zTFJUR1FfX2stcE1rMXNCQU1IYU5yUG1DZATZACbmx4a2tB){caption,comments_count,like_count}}', 'access_token': 'EAAJGCVkgEywBAOY25RaCyHyTavpbp8Rob3Sj2qpmDreBnIoerz6CECHOq31zOP0JdLAw0ATdAGIEkhImHkZA6nNsHQblNB75GRwq2vS2669ZBwLZAjo46oNvMxMvTzcNKKM8XbUgrecMpZCU13XfJZBYrj4Jmj4jYcoHZAilZAB7HzZCZBXnHrQ3bc49MhWjIiIyWNlCRqXRbP3BZBbpBMG5eNfbbrZAU2SwFajYUZC5uQZC3TT18lAbE2pIx'}\n",
      "https://graph.facebook.com/v12.0/17841405419489636 {'fields': 'business_discovery.username(aespa_official){followers_count,media_count,media.after(QVFIUlZAZARmpxbHg5dm5qcm9uQUlnWnktVFJ6UXgwVkhxRXhEX1FjUnh5SjlIVHlVbTl2ZAzNPcXRiblAzT2pqWWpZAcFdEeExYSVI4NHhNYUhGdGp1MmloazN3){caption,comments_count,like_count}}', 'access_token': 'EAAJGCVkgEywBAOY25RaCyHyTavpbp8Rob3Sj2qpmDreBnIoerz6CECHOq31zOP0JdLAw0ATdAGIEkhImHkZA6nNsHQblNB75GRwq2vS2669ZBwLZAjo46oNvMxMvTzcNKKM8XbUgrecMpZCU13XfJZBYrj4Jmj4jYcoHZAilZAB7HzZCZBXnHrQ3bc49MhWjIiIyWNlCRqXRbP3BZBbpBMG5eNfbbrZAU2SwFajYUZC5uQZC3TT18lAbE2pIx'}\n",
      "https://graph.facebook.com/v12.0/17841405419489636 {'fields': 'business_discovery.username(aespa_official){followers_count,media_count,media.after(QVFIUmE5Q0EyTzJMZAzBQRm1qZAmZA4NGdNVU00NmhMblBkM3pqNTBaMlJ2MTYzU3BZAemk3d1lqbjl2dzQzcXBNems5ajRWVXdpT2VHV3c2aElkejgtYUZAMbkZAB){caption,comments_count,like_count}}', 'access_token': 'EAAJGCVkgEywBAOY25RaCyHyTavpbp8Rob3Sj2qpmDreBnIoerz6CECHOq31zOP0JdLAw0ATdAGIEkhImHkZA6nNsHQblNB75GRwq2vS2669ZBwLZAjo46oNvMxMvTzcNKKM8XbUgrecMpZCU13XfJZBYrj4Jmj4jYcoHZAilZAB7HzZCZBXnHrQ3bc49MhWjIiIyWNlCRqXRbP3BZBbpBMG5eNfbbrZAU2SwFajYUZC5uQZC3TT18lAbE2pIx'}\n",
      "https://graph.facebook.com/v12.0/17841405419489636 {'fields': 'business_discovery.username(aespa_official){followers_count,media_count,media.after(QVFIUjJTWGxYOC1oQ2hDNzNoS0tHOFliQXZAXUkdfVlNGSS1UVVNjX2FVTWJqbG9faTdYM0ZAXdE5PakkwSnJYSTRKR2U4NkZAIanV0ajlpaUJjZAmJxZA0JCWXZAR){caption,comments_count,like_count}}', 'access_token': 'EAAJGCVkgEywBAOY25RaCyHyTavpbp8Rob3Sj2qpmDreBnIoerz6CECHOq31zOP0JdLAw0ATdAGIEkhImHkZA6nNsHQblNB75GRwq2vS2669ZBwLZAjo46oNvMxMvTzcNKKM8XbUgrecMpZCU13XfJZBYrj4Jmj4jYcoHZAilZAB7HzZCZBXnHrQ3bc49MhWjIiIyWNlCRqXRbP3BZBbpBMG5eNfbbrZAU2SwFajYUZC5uQZC3TT18lAbE2pIx'}\n",
      "https://graph.facebook.com/v12.0/17841405419489636 {'fields': 'business_discovery.username(aespa_official){followers_count,media_count,media.after(QVFIUlpDZAVZAPZAW1pTE5RTFlJR0tiWmJUVDVCSkQ1RkppMGhDQmRZAZAW4wZAnVSanJuTnc3N3Q1QmQzTjhCU2d2ajVSR3ViYkQ4VVVKdmNRaGZAxZAWVhazdpRnNn){caption,comments_count,like_count}}', 'access_token': 'EAAJGCVkgEywBAOY25RaCyHyTavpbp8Rob3Sj2qpmDreBnIoerz6CECHOq31zOP0JdLAw0ATdAGIEkhImHkZA6nNsHQblNB75GRwq2vS2669ZBwLZAjo46oNvMxMvTzcNKKM8XbUgrecMpZCU13XfJZBYrj4Jmj4jYcoHZAilZAB7HzZCZBXnHrQ3bc49MhWjIiIyWNlCRqXRbP3BZBbpBMG5eNfbbrZAU2SwFajYUZC5uQZC3TT18lAbE2pIx'}\n",
      "https://graph.facebook.com/v12.0/17841405419489636 {'fields': 'business_discovery.username(aespa_official){followers_count,media_count,media.after(QVFIUlZArVUU2bnFYQm5HcFBkWG5NeWdlZAUpiM202M0doNm1STDVnNHczeWxXMjZAZAWHRfZAU5yNE9JM1ZA4dWxxb2ZAmSEQxN0lyeXpiMUE3MGJyWWFCVlh4aER3){caption,comments_count,like_count}}', 'access_token': 'EAAJGCVkgEywBAOY25RaCyHyTavpbp8Rob3Sj2qpmDreBnIoerz6CECHOq31zOP0JdLAw0ATdAGIEkhImHkZA6nNsHQblNB75GRwq2vS2669ZBwLZAjo46oNvMxMvTzcNKKM8XbUgrecMpZCU13XfJZBYrj4Jmj4jYcoHZAilZAB7HzZCZBXnHrQ3bc49MhWjIiIyWNlCRqXRbP3BZBbpBMG5eNfbbrZAU2SwFajYUZC5uQZC3TT18lAbE2pIx'}\n",
      "https://graph.facebook.com/v12.0/17841405419489636 {'fields': 'business_discovery.username(aespa_official){followers_count,media_count,media.after(QVFIUjFtTkdYNDBBNnFYaHVvR3RaZADlxM2xMWV95SkNHbmZALb1lJV2Foc3lhRk1TMWF0ZA2NGNjUwZAXJXUjc4d3h4MlQ2UGJudkxMZA2ZAkQl9HSS0wVmR0azRn){caption,comments_count,like_count}}', 'access_token': 'EAAJGCVkgEywBAOY25RaCyHyTavpbp8Rob3Sj2qpmDreBnIoerz6CECHOq31zOP0JdLAw0ATdAGIEkhImHkZA6nNsHQblNB75GRwq2vS2669ZBwLZAjo46oNvMxMvTzcNKKM8XbUgrecMpZCU13XfJZBYrj4Jmj4jYcoHZAilZAB7HzZCZBXnHrQ3bc49MhWjIiIyWNlCRqXRbP3BZBbpBMG5eNfbbrZAU2SwFajYUZC5uQZC3TT18lAbE2pIx'}\n"
     ]
    },
    {
     "name": "stdout",
     "output_type": "stream",
     "text": [
      "https://graph.facebook.com/v12.0/17841405419489636 {'fields': 'business_discovery.username(aespa_official){followers_count,media_count,media.after(QVFIUlpqWDdUS3A5OXI3bExPNUNRSnQxa3psYlZAyaUpBT3oxejBEMmhrYmE5VnZAEeUw5VDFuNmtpQlkzM1JaeHlBUnhaOGJ4c2dhOXhkenM0UmU5UVg0M3Jn){caption,comments_count,like_count}}', 'access_token': 'EAAJGCVkgEywBAOY25RaCyHyTavpbp8Rob3Sj2qpmDreBnIoerz6CECHOq31zOP0JdLAw0ATdAGIEkhImHkZA6nNsHQblNB75GRwq2vS2669ZBwLZAjo46oNvMxMvTzcNKKM8XbUgrecMpZCU13XfJZBYrj4Jmj4jYcoHZAilZAB7HzZCZBXnHrQ3bc49MhWjIiIyWNlCRqXRbP3BZBbpBMG5eNfbbrZAU2SwFajYUZC5uQZC3TT18lAbE2pIx'}\n",
      "https://graph.facebook.com/v12.0/17841405419489636 {'fields': 'business_discovery.username(aespa_official){followers_count,media_count,media.after(QVFIUm5QeUhKWVVHMDFYc3pSN05xY2c1dGxETTBoVG4zcHNMSjFDYy1oMnZAaa08wVENlRUJIOFBXcS1UUV9JRGNpOE1OODNSYUs0MExlcEEwdkRlb2hvWjNB){caption,comments_count,like_count}}', 'access_token': 'EAAJGCVkgEywBAOY25RaCyHyTavpbp8Rob3Sj2qpmDreBnIoerz6CECHOq31zOP0JdLAw0ATdAGIEkhImHkZA6nNsHQblNB75GRwq2vS2669ZBwLZAjo46oNvMxMvTzcNKKM8XbUgrecMpZCU13XfJZBYrj4Jmj4jYcoHZAilZAB7HzZCZBXnHrQ3bc49MhWjIiIyWNlCRqXRbP3BZBbpBMG5eNfbbrZAU2SwFajYUZC5uQZC3TT18lAbE2pIx'}\n",
      "https://graph.facebook.com/v12.0/17841405419489636 {'fields': 'business_discovery.username(aespa_official){followers_count,media_count,media.after(QVFIUmVZAb3F6ZAXhmcktoT3VGMU9iZA3pMVXJiYWoyX2JqUUc5ZAXFfMFlsTWpDdTVRSW1LT1dYaEF5Q1lvWERid1dybXQ4b3RaSnJoY085eG43NFN1VDFMWVNn){caption,comments_count,like_count}}', 'access_token': 'EAAJGCVkgEywBAOY25RaCyHyTavpbp8Rob3Sj2qpmDreBnIoerz6CECHOq31zOP0JdLAw0ATdAGIEkhImHkZA6nNsHQblNB75GRwq2vS2669ZBwLZAjo46oNvMxMvTzcNKKM8XbUgrecMpZCU13XfJZBYrj4Jmj4jYcoHZAilZAB7HzZCZBXnHrQ3bc49MhWjIiIyWNlCRqXRbP3BZBbpBMG5eNfbbrZAU2SwFajYUZC5uQZC3TT18lAbE2pIx'}\n",
      "https://graph.facebook.com/v12.0/17841405419489636 {'fields': 'business_discovery.username(aespa_official){followers_count,media_count,media.after(QVFIUmFaaHk4bVZACSTZASR0k2SndqRHU0SGNuRGlWampPOXRFZAmc1VnFYbDlFT0FBUWRnaFpXRVZAoRVJvLVQzZA1ZA1MHVLVHFaQ0dxYlhMWS1YQzFUdWRTVW93){caption,comments_count,like_count}}', 'access_token': 'EAAJGCVkgEywBAOY25RaCyHyTavpbp8Rob3Sj2qpmDreBnIoerz6CECHOq31zOP0JdLAw0ATdAGIEkhImHkZA6nNsHQblNB75GRwq2vS2669ZBwLZAjo46oNvMxMvTzcNKKM8XbUgrecMpZCU13XfJZBYrj4Jmj4jYcoHZAilZAB7HzZCZBXnHrQ3bc49MhWjIiIyWNlCRqXRbP3BZBbpBMG5eNfbbrZAU2SwFajYUZC5uQZC3TT18lAbE2pIx'}\n",
      "https://graph.facebook.com/v12.0/17841405419489636 {'fields': 'business_discovery.username(aespa_official){followers_count,media_count,media.after(QVFIUjZAoUkhJWDlGUWU2R1otRGxudC1VRERSNGNTcFlQczVqSk9jdFhOajdndGEtMU91Q2xKeTRmTWxhbTNpVXNwRy03VkUzSVo3Y2doa2gtSUl5ZAWk1ZAk9B){caption,comments_count,like_count}}', 'access_token': 'EAAJGCVkgEywBAOY25RaCyHyTavpbp8Rob3Sj2qpmDreBnIoerz6CECHOq31zOP0JdLAw0ATdAGIEkhImHkZA6nNsHQblNB75GRwq2vS2669ZBwLZAjo46oNvMxMvTzcNKKM8XbUgrecMpZCU13XfJZBYrj4Jmj4jYcoHZAilZAB7HzZCZBXnHrQ3bc49MhWjIiIyWNlCRqXRbP3BZBbpBMG5eNfbbrZAU2SwFajYUZC5uQZC3TT18lAbE2pIx'}\n",
      "ig_creator_username: aespa_official\n",
      "followers_count: 7945739\n",
      "media_count: 836\n",
      "All posts are saving to ins_aespa.xlsx!\n"
     ]
    }
   ],
   "source": [
    "ig_user_id = '17841405419489636'\n",
    "# explorer里generate的access token\n",
    "token = 'EAAJGCVkgEywBAOY25RaCyHyTavpbp8Rob3Sj2qpmDreBnIoerz6CECHOq31zOP0JdLAw0ATdAGIEkhImHkZA6nNsHQblNB75GRwq2vS2669ZBwLZAjo46oNvMxMvTzcNKKM8XbUgrecMpZCU13XfJZBYrj4Jmj4jYcoHZAilZAB7HzZCZBXnHrQ3bc49MhWjIiIyWNlCRqXRbP3BZBbpBMG5eNfbbrZAU2SwFajYUZC5uQZC3TT18lAbE2pIx'\n",
    "temp_proxies = None\n",
    "# temp_proxies = {'https': '127.0.0.1:7890'}\n",
    "\n",
    "bd = BusinessDiscovery(prefix='https://graph.facebook.com/v12.0',\n",
    "                       ig_user_id=ig_user_id,\n",
    "                       ig_creator_username='aespa_official',\n",
    "                       access_token=token,\n",
    "                       proxies=temp_proxies)\n",
    "bd.request_all_posts_to_xlsx('ins_aespa.xlsx')"
   ]
  },
  {
   "cell_type": "code",
   "execution_count": null,
   "metadata": {},
   "outputs": [],
   "source": []
  }
 ],
 "metadata": {
  "kernelspec": {
   "display_name": "Python 3 (ipykernel)",
   "language": "python",
   "name": "python3"
  },
  "language_info": {
   "codemirror_mode": {
    "name": "ipython",
    "version": 3
   },
   "file_extension": ".py",
   "mimetype": "text/x-python",
   "name": "python",
   "nbconvert_exporter": "python",
   "pygments_lexer": "ipython3",
   "version": "3.9.7"
  }
 },
 "nbformat": 4,
 "nbformat_minor": 1
}
