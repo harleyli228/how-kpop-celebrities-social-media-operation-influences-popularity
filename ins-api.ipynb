{
 "cells": [
  {
   "cell_type": "code",
   "execution_count": 1,
   "metadata": {},
   "outputs": [],
   "source": [
    "import requests\n",
    "import json\n",
    "import time\n",
    "from openpyxl import Workbook\n",
    "\n",
    "class BusinessDiscovery:\n",
    "    def __init__(self, prefix, ig_user_id, ig_creator_username, access_token, creator_field='followers_count,media_count',\n",
    "                 media_field='caption,comments_count,like_count', proxies=None, time_sleep=1):\n",
    "        self.url = '%s/%s' % (prefix, ig_user_id)\n",
    "        self.access_token = access_token\n",
    "        self.ig_creator_username = ig_creator_username\n",
    "        self.creator_field = creator_field\n",
    "        self.media_field = media_field\n",
    "        self.proxies=proxies\n",
    "        self.time_sleep = time_sleep\n",
    "\n",
    "        self.xlsx_head = media_field.split(',')\n",
    "        self.xlsx_head.append('id')\n",
    "\n",
    "    def build_params(self, after=None):\n",
    "        after_str = '.after(%s)' % after if after else ''\n",
    "        params = {'fields': 'business_discovery.username(%s){%s,media%s{%s}}' % (self.ig_creator_username,\n",
    "                                                                               self.creator_field,\n",
    "                                                                               after_str,\n",
    "                                                                               self.media_field),\n",
    "                'access_token': self.access_token}\n",
    "        return params\n",
    "\n",
    "    def request_by_params(self, params):\n",
    "        print(self.url, params)\n",
    "        ret = requests.get(self.url, params=params, proxies=self.proxies)\n",
    "        return json.loads(ret.content)\n",
    "\n",
    "    @staticmethod\n",
    "    def get_paging_cursor(content, direction='after'):\n",
    "        paging_cursors = content['business_discovery']['media']['paging']['cursors']\n",
    "        if direction in paging_cursors:\n",
    "            return paging_cursors[direction]\n",
    "        else:\n",
    "            return None\n",
    "\n",
    "    def write_media_data(self, content, xlsx_sheet):\n",
    "        media_data = content['business_discovery']['media']['data']\n",
    "        for media in media_data:\n",
    "            xlsx_sheet.append([media.get(key, '') for key in self.xlsx_head])\n",
    "\n",
    "    def request_all_posts_to_xlsx(self, xlsx_path, need_xlsx_head=True):\n",
    "        wb = Workbook()\n",
    "        xlsx_sheet = wb.active\n",
    "        if need_xlsx_head:\n",
    "            xlsx_sheet.append(self.xlsx_head)\n",
    "\n",
    "        params = self.build_params()\n",
    "        content = self.request_by_params(params)\n",
    "        self.write_media_data(content, xlsx_sheet)\n",
    "\n",
    "        followers_count = content['business_discovery']['followers_count']\n",
    "        media_count = content['business_discovery']['media_count']\n",
    "\n",
    "        if 'paging' in content['business_discovery']['media']:\n",
    "            next_paging_cursor = self.get_paging_cursor(content)\n",
    "            while next_paging_cursor:\n",
    "                params = self.build_params(after=next_paging_cursor)\n",
    "                content = self.request_by_params(params)\n",
    "                next_paging_cursor = self.get_paging_cursor(content)\n",
    "                self.write_media_data(content, xlsx_sheet)\n",
    "                time.sleep(self.time_sleep)\n",
    "\n",
    "        wb.save(xlsx_path)\n",
    "\n",
    "        print('ig_creator_username:', self.ig_creator_username)\n",
    "        print('followers_count:', followers_count)\n",
    "        print('media_count:', media_count)\n",
    "        print('All posts are saving to %s!' % xlsx_path)"
   ]
  },
  {
   "cell_type": "code",
   "execution_count": 2,
   "metadata": {
    "pycharm": {
     "name": "#%%\n"
    }
   },
   "outputs": [
    {
     "name": "stdout",
     "output_type": "stream",
     "text": [
      "https://graph.facebook.com/v12.0/17841405419489636 {'fields': 'business_discovery.username(dlwlrma){followers_count,media_count,media{caption,comments_count,like_count}}', 'access_token': 'EAAJGCVkgEywBAJhQ1O6EAAJGCVkgEywBAOsshUMymVHtK9VQv4heZAQoV7g3xtH5ja1NDHAZAUABvospeSHJEYnJbMtZAuYeAbt7FeF8wQKTdN4Fv4ZBpsGGg3KiA6J3rh317CJsMvxULA6cWEzLDHCsjHQDGEkMjPwOtBZAZCQpZBzZAWc0pPhfJ0kHXay3Vj3fyI4RT9ieLwb3TlJwKOi5F8PMLwlXwwZDZD'}\n"
     ]
    },
    {
     "ename": "KeyError",
     "evalue": "'business_discovery'",
     "output_type": "error",
     "traceback": [
      "\u001b[0;31m---------------------------------------------------------------------------\u001b[0m",
      "\u001b[0;31mKeyError\u001b[0m                                  Traceback (most recent call last)",
      "\u001b[0;32m/var/folders/h9/mnv70pvn1wzc9tfq50zd0hwr0000gn/T/ipykernel_56204/4225609480.py\u001b[0m in \u001b[0;36m<module>\u001b[0;34m\u001b[0m\n\u001b[1;32m     13\u001b[0m                        \u001b[0maccess_token\u001b[0m\u001b[0;34m=\u001b[0m\u001b[0mtoken\u001b[0m\u001b[0;34m,\u001b[0m\u001b[0;34m\u001b[0m\u001b[0;34m\u001b[0m\u001b[0m\n\u001b[1;32m     14\u001b[0m                        proxies=temp_proxies)\n\u001b[0;32m---> 15\u001b[0;31m \u001b[0mbd\u001b[0m\u001b[0;34m.\u001b[0m\u001b[0mrequest_all_posts_to_xlsx\u001b[0m\u001b[0;34m(\u001b[0m\u001b[0;34m'ins_iu.xlsx'\u001b[0m\u001b[0;34m)\u001b[0m\u001b[0;34m\u001b[0m\u001b[0;34m\u001b[0m\u001b[0m\n\u001b[0m",
      "\u001b[0;32m/var/folders/h9/mnv70pvn1wzc9tfq50zd0hwr0000gn/T/ipykernel_56204/3564705287.py\u001b[0m in \u001b[0;36mrequest_all_posts_to_xlsx\u001b[0;34m(self, xlsx_path, need_xlsx_head)\u001b[0m\n\u001b[1;32m     53\u001b[0m         \u001b[0mparams\u001b[0m \u001b[0;34m=\u001b[0m \u001b[0mself\u001b[0m\u001b[0;34m.\u001b[0m\u001b[0mbuild_params\u001b[0m\u001b[0;34m(\u001b[0m\u001b[0;34m)\u001b[0m\u001b[0;34m\u001b[0m\u001b[0;34m\u001b[0m\u001b[0m\n\u001b[1;32m     54\u001b[0m         \u001b[0mcontent\u001b[0m \u001b[0;34m=\u001b[0m \u001b[0mself\u001b[0m\u001b[0;34m.\u001b[0m\u001b[0mrequest_by_params\u001b[0m\u001b[0;34m(\u001b[0m\u001b[0mparams\u001b[0m\u001b[0;34m)\u001b[0m\u001b[0;34m\u001b[0m\u001b[0;34m\u001b[0m\u001b[0m\n\u001b[0;32m---> 55\u001b[0;31m         \u001b[0mself\u001b[0m\u001b[0;34m.\u001b[0m\u001b[0mwrite_media_data\u001b[0m\u001b[0;34m(\u001b[0m\u001b[0mcontent\u001b[0m\u001b[0;34m,\u001b[0m \u001b[0mxlsx_sheet\u001b[0m\u001b[0;34m)\u001b[0m\u001b[0;34m\u001b[0m\u001b[0;34m\u001b[0m\u001b[0m\n\u001b[0m\u001b[1;32m     56\u001b[0m \u001b[0;34m\u001b[0m\u001b[0m\n\u001b[1;32m     57\u001b[0m         \u001b[0mfollowers_count\u001b[0m \u001b[0;34m=\u001b[0m \u001b[0mcontent\u001b[0m\u001b[0;34m[\u001b[0m\u001b[0;34m'business_discovery'\u001b[0m\u001b[0;34m]\u001b[0m\u001b[0;34m[\u001b[0m\u001b[0;34m'followers_count'\u001b[0m\u001b[0;34m]\u001b[0m\u001b[0;34m\u001b[0m\u001b[0;34m\u001b[0m\u001b[0m\n",
      "\u001b[0;32m/var/folders/h9/mnv70pvn1wzc9tfq50zd0hwr0000gn/T/ipykernel_56204/3564705287.py\u001b[0m in \u001b[0;36mwrite_media_data\u001b[0;34m(self, content, xlsx_sheet)\u001b[0m\n\u001b[1;32m     41\u001b[0m \u001b[0;34m\u001b[0m\u001b[0m\n\u001b[1;32m     42\u001b[0m     \u001b[0;32mdef\u001b[0m \u001b[0mwrite_media_data\u001b[0m\u001b[0;34m(\u001b[0m\u001b[0mself\u001b[0m\u001b[0;34m,\u001b[0m \u001b[0mcontent\u001b[0m\u001b[0;34m,\u001b[0m \u001b[0mxlsx_sheet\u001b[0m\u001b[0;34m)\u001b[0m\u001b[0;34m:\u001b[0m\u001b[0;34m\u001b[0m\u001b[0;34m\u001b[0m\u001b[0m\n\u001b[0;32m---> 43\u001b[0;31m         \u001b[0mmedia_data\u001b[0m \u001b[0;34m=\u001b[0m \u001b[0mcontent\u001b[0m\u001b[0;34m[\u001b[0m\u001b[0;34m'business_discovery'\u001b[0m\u001b[0;34m]\u001b[0m\u001b[0;34m[\u001b[0m\u001b[0;34m'media'\u001b[0m\u001b[0;34m]\u001b[0m\u001b[0;34m[\u001b[0m\u001b[0;34m'data'\u001b[0m\u001b[0;34m]\u001b[0m\u001b[0;34m\u001b[0m\u001b[0;34m\u001b[0m\u001b[0m\n\u001b[0m\u001b[1;32m     44\u001b[0m         \u001b[0;32mfor\u001b[0m \u001b[0mmedia\u001b[0m \u001b[0;32min\u001b[0m \u001b[0mmedia_data\u001b[0m\u001b[0;34m:\u001b[0m\u001b[0;34m\u001b[0m\u001b[0;34m\u001b[0m\u001b[0m\n\u001b[1;32m     45\u001b[0m             \u001b[0mxlsx_sheet\u001b[0m\u001b[0;34m.\u001b[0m\u001b[0mappend\u001b[0m\u001b[0;34m(\u001b[0m\u001b[0;34m[\u001b[0m\u001b[0mmedia\u001b[0m\u001b[0;34m.\u001b[0m\u001b[0mget\u001b[0m\u001b[0;34m(\u001b[0m\u001b[0mkey\u001b[0m\u001b[0;34m,\u001b[0m \u001b[0;34m''\u001b[0m\u001b[0;34m)\u001b[0m \u001b[0;32mfor\u001b[0m \u001b[0mkey\u001b[0m \u001b[0;32min\u001b[0m \u001b[0mself\u001b[0m\u001b[0;34m.\u001b[0m\u001b[0mxlsx_head\u001b[0m\u001b[0;34m]\u001b[0m\u001b[0;34m)\u001b[0m\u001b[0;34m\u001b[0m\u001b[0;34m\u001b[0m\u001b[0m\n",
      "\u001b[0;31mKeyError\u001b[0m: 'business_discovery'"
     ]
    }
   ],
   "source": [
    "# explorer里得到的那串user_id\n",
    "ig_user_id = '17841405419489636'\n",
    "\n",
    "# explorer里generate的access token\n",
    "token = 'EAAJGCVkgEywBAJhQ1O6EAAJGCVkgEywBAOsshUMymVHtK9VQv4heZAQoV7g3xtH5ja1NDHAZAUABvospeSHJEYnJbMtZAuYeAbt7FeF8wQKTdN4Fv4ZBpsGGg3KiA6J3rh317CJsMvxULA6cWEzLDHCsjHQDGEkMjPwOtBZAZCQpZBzZAWc0pPhfJ0kHXay3Vj3fyI4RT9ieLwb3TlJwKOi5F8PMLwlXwwZDZD'\n",
    "# 你回国以后可能会需要它。在美国设置为None即可\n",
    "temp_proxies = None\n",
    "# temp_proxies = {'https': '127.0.0.1:58591'}\n",
    "\n",
    "bd = BusinessDiscovery(prefix='https://graph.facebook.com/v12.0',\n",
    "                       ig_user_id=ig_user_id,\n",
    "                       ig_creator_username='dlwlrma',\n",
    "                       access_token=token,\n",
    "                       proxies=temp_proxies)\n",
    "bd.request_all_posts_to_xlsx('ins_iu.xlsx')"
   ]
  },
  {
   "cell_type": "code",
   "execution_count": null,
   "metadata": {},
   "outputs": [],
   "source": []
  }
 ],
 "metadata": {
  "kernelspec": {
   "display_name": "Python 3 (ipykernel)",
   "language": "python",
   "name": "python3"
  },
  "language_info": {
   "codemirror_mode": {
    "name": "ipython",
    "version": 3
   },
   "file_extension": ".py",
   "mimetype": "text/x-python",
   "name": "python",
   "nbconvert_exporter": "python",
   "pygments_lexer": "ipython3",
   "version": "3.9.7"
  }
 },
 "nbformat": 4,
 "nbformat_minor": 1
}
